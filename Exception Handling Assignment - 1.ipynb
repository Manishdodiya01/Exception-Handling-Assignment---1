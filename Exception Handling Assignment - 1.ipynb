{
 "cells": [
  {
   "cell_type": "markdown",
   "id": "f1fc027e-138c-49f8-8993-593a810bb049",
   "metadata": {
    "tags": []
   },
   "source": [
    "# Q1. What is an Exception in python? Write the difference between Exceptions and syntax errors."
   ]
  },
  {
   "cell_type": "markdown",
   "id": "c38e58fb-69da-40b5-880d-e71c7d252154",
   "metadata": {},
   "source": [
    "In Python, an exception is an event that occurs during the execution of a program that disrupts the normal flow of instructions. When an exception occurs, the interpreter raises an object that represents the error, and the normal program execution is halted. These exceptions can occur for various reasons, such as when trying to divide by zero, accessing a non-existent file, or attempting to call a method on an object that doesn't support it.\n",
    "\n",
    "Exceptions can be categorized into two main types: built-in exceptions and user-defined exceptions. Python provides a variety of built-in exception classes that cover different types of errors. These include `ZeroDivisionError`, `FileNotFoundError`, `TypeError`, `ValueError`, and many more.\n",
    "\n",
    "On the other hand, syntax errors are a type of error that occur when the code violates the rules of the Python language syntax. These errors are detected by the Python interpreter during the parsing phase, before the code is actually executed. Syntax errors prevent the code from being run and must be fixed before the program can be executed.\n",
    "\n",
    "Here's a summary of the key differences between exceptions and syntax errors:\n",
    "\n",
    "1. **Timing of Detection**:\n",
    "   - **Exceptions**: Detected during program execution when an exceptional condition occurs.\n",
    "   - **Syntax Errors**: Detected during the parsing phase, before program execution begins.\n",
    "\n",
    "2. **Cause**:\n",
    "   - **Exceptions**: Caused by runtime conditions, such as division by zero or attempting to access a non-existent file.\n",
    "   - **Syntax Errors**: Caused by violations of Python language rules, like missing colons, incorrect indentation, etc.\n",
    "\n",
    "3. **Detection Mechanism**:\n",
    "   - **Exceptions**: Raised by the interpreter when a specific condition is met (e.g., trying to access an undefined variable).\n",
    "   - **Syntax Errors**: Detected by the interpreter when it's processing the code to create a program's abstract syntax tree.\n",
    "\n",
    "4. **Handling**:\n",
    "   - **Exceptions**: Can be caught and handled using `try` and `except` blocks. This allows the program to gracefully handle errors and continue execution.\n",
    "   - **Syntax Errors**: Since they prevent the code from being executed, they must be fixed directly in the code before the program can run.\n",
    "\n",
    "In summary, exceptions are raised during the runtime of a program when an exceptional condition occurs, while syntax errors are detected by the interpreter before program execution due to violations of the Python language's syntax rules."
   ]
  },
  {
   "cell_type": "markdown",
   "id": "b901b30c-0d49-4106-bbbb-6bf051002f5c",
   "metadata": {
    "tags": []
   },
   "source": [
    "# Q2. What happens when an exception is not handled? Explain with an example."
   ]
  },
  {
   "cell_type": "markdown",
   "id": "c22d4d7c-2e59-4bcd-a63c-59bd81c92b9f",
   "metadata": {},
   "source": [
    "When an exception is not handled, it results in what is called an \"unhandled exception.\" An unhandled exception occurs when the program encounters an error or unexpected condition that disrupts its normal flow of execution, but there is no code to catch and handle that exception. As a result, the program typically terminates abruptly, and an error message is displayed to the user, indicating the nature of the exception and the location in the code where it occurred."
   ]
  },
  {
   "cell_type": "code",
   "execution_count": 1,
   "id": "3f5e3543-ea57-4e23-bac9-012da4ebc249",
   "metadata": {},
   "outputs": [
    {
     "ename": "ZeroDivisionError",
     "evalue": "division by zero",
     "output_type": "error",
     "traceback": [
      "\u001b[0;31m---------------------------------------------------------------------------\u001b[0m",
      "\u001b[0;31mZeroDivisionError\u001b[0m                         Traceback (most recent call last)",
      "Cell \u001b[0;32mIn[1], line 5\u001b[0m\n\u001b[1;32m      2\u001b[0m     \u001b[38;5;28;01mreturn\u001b[39;00m a \u001b[38;5;241m/\u001b[39m b\n\u001b[1;32m      4\u001b[0m \u001b[38;5;28;01mtry\u001b[39;00m:\n\u001b[0;32m----> 5\u001b[0m     result \u001b[38;5;241m=\u001b[39m \u001b[43mdivide\u001b[49m\u001b[43m(\u001b[49m\u001b[38;5;241;43m5\u001b[39;49m\u001b[43m,\u001b[49m\u001b[43m \u001b[49m\u001b[38;5;241;43m0\u001b[39;49m\u001b[43m)\u001b[49m  \u001b[38;5;66;03m# This will raise a ZeroDivisionError\u001b[39;00m\n\u001b[1;32m      6\u001b[0m \u001b[38;5;28;01mexcept\u001b[39;00m \u001b[38;5;167;01mValueError\u001b[39;00m:\n\u001b[1;32m      7\u001b[0m     \u001b[38;5;28mprint\u001b[39m(\u001b[38;5;124m\"\u001b[39m\u001b[38;5;124mCaught a ValueError\u001b[39m\u001b[38;5;124m\"\u001b[39m)\n",
      "Cell \u001b[0;32mIn[1], line 2\u001b[0m, in \u001b[0;36mdivide\u001b[0;34m(a, b)\u001b[0m\n\u001b[1;32m      1\u001b[0m \u001b[38;5;28;01mdef\u001b[39;00m \u001b[38;5;21mdivide\u001b[39m(a, b):\n\u001b[0;32m----> 2\u001b[0m     \u001b[38;5;28;01mreturn\u001b[39;00m \u001b[43ma\u001b[49m\u001b[43m \u001b[49m\u001b[38;5;241;43m/\u001b[39;49m\u001b[43m \u001b[49m\u001b[43mb\u001b[49m\n",
      "\u001b[0;31mZeroDivisionError\u001b[0m: division by zero"
     ]
    }
   ],
   "source": [
    "def divide(a, b):\n",
    "    return a / b\n",
    "\n",
    "try:\n",
    "    result = divide(5, 0)  # This will raise a ZeroDivisionError\n",
    "except ValueError:\n",
    "    print(\"Caught a ValueError\")\n"
   ]
  },
  {
   "cell_type": "markdown",
   "id": "11e42a53-9451-4464-a3dd-a6d74d873603",
   "metadata": {},
   "source": [
    "In this example, the divide function attempts to perform a division operation. However, division by zero is not allowed in mathematics and will result in a ZeroDivisionError in Python. The code inside the try block is attempting the division, and since the division by zero is not caught within the try block, it will raise an exception.\n",
    "\n",
    "In the except block, we have specified that we are catching ValueError exceptions. However, the actual exception raised is a ZeroDivisionError, which is not a subclass of ValueError. As a result, this specific exception will not be caught, and the program will terminate abruptly, displaying an error message similar to:"
   ]
  },
  {
   "cell_type": "markdown",
   "id": "1091e67c-624a-4dab-8ead-375f014f8c37",
   "metadata": {},
   "source": [
    "In this scenario, the exception was not handled because the except block was looking for the wrong type of exception. If the correct exception type had been specified, the program would have caught and handled the exception gracefully, allowing the program to continue running despite the error.\n",
    "\n",
    "To prevent unhandled exceptions, it's important to write robust code that includes proper error handling mechanisms. This involves using try and except blocks to catch and handle exceptions that might occur during the execution of the code. If you're uncertain about the types of exceptions that might be raised, you can use a more generic except block without specifying a specific exception type, or you can catch a broader exception class like Exception (though it's generally recommended to catch specific exceptions whenever possible for better error handling).\n",
    "\n",
    "\n",
    "\n",
    "\n",
    "\n"
   ]
  },
  {
   "cell_type": "markdown",
   "id": "b0b039d8-9872-4fb9-9607-2789367a1215",
   "metadata": {
    "tags": []
   },
   "source": [
    "# Q3.which python statements are used to catch and handle execeptions? explain with an example."
   ]
  },
  {
   "cell_type": "markdown",
   "id": "6aef6499-83cd-45ee-ba76-897dd6d1300a",
   "metadata": {},
   "source": [
    "In Python, the try-except statements are used to catch and handle exceptions. The try block contains the code that might raise an exception, and the except block specifies the code to be executed when a specific exception occurs.\n",
    "\n"
   ]
  },
  {
   "cell_type": "code",
   "execution_count": 10,
   "id": "1bfb88f8-f243-4421-8c55-69b704e1e942",
   "metadata": {},
   "outputs": [
    {
     "name": "stdout",
     "output_type": "stream",
     "text": [
      "The result of division is: 5.0\n",
      "Error: Division by zero is not allowed.\n"
     ]
    }
   ],
   "source": [
    "def divide_numbers(a, b):\n",
    "    try:\n",
    "        result = a / b\n",
    "        print(\"The result of division is:\", result)\n",
    "    except ZeroDivisionError:\n",
    "        print(\"Error: Division by zero is not allowed.\")\n",
    "\n",
    "# Example 1: Division by a non-zero number\n",
    "divide_numbers(10, 2)\n",
    "\n",
    "# Example 2: Division by zero\n",
    "divide_numbers(10, 0)\n"
   ]
  },
  {
   "cell_type": "markdown",
   "id": "00eb55e0-ee37-499f-828e-0365de8590da",
   "metadata": {
    "tags": []
   },
   "source": [
    "# Q4.Explain with an example:\n",
    "\n",
    "a.try and else\n",
    "b.finally\n",
    "c.raise"
   ]
  },
  {
   "cell_type": "markdown",
   "id": "338898dd-5656-4b3d-b35e-a6409270d5df",
   "metadata": {},
   "source": [
    "In Python, the try-except-else-finally statement provides a more comprehensive way to handle exceptions. It allows you to specify additional blocks of code to be executed in different scenarios, including when no exception occurs (else block) and regardless of whether an exception occurs or not (finally block)."
   ]
  },
  {
   "cell_type": "code",
   "execution_count": 11,
   "id": "2fef6f7f-f944-4f56-95e5-6903da085873",
   "metadata": {},
   "outputs": [
    {
     "name": "stdout",
     "output_type": "stream",
     "text": [
      "The result of division is: 5.0\n",
      "Division operation completed.\n",
      "Error: Division by zero is not allowed.\n",
      "Division operation completed.\n"
     ]
    }
   ],
   "source": [
    "def divide_numbers(a, b):\n",
    "    try:\n",
    "        result = a / b\n",
    "    except ZeroDivisionError:\n",
    "        print(\"Error: Division by zero is not allowed.\")\n",
    "    else:\n",
    "        print(\"The result of division is:\", result)\n",
    "    finally:\n",
    "        print(\"Division operation completed.\")\n",
    "\n",
    "# Example 1: Division by a non-zero number\n",
    "divide_numbers(10, 2)\n",
    "\n",
    "# Example 2: Division by zero\n",
    "divide_numbers(10, 0)\n"
   ]
  },
  {
   "cell_type": "markdown",
   "id": "9dc9d698-4f76-469f-9d15-3eff0e0e6392",
   "metadata": {},
   "source": [
    "In this example, the divide function takes two arguments and attempts to divide them. Inside the try block, the division operation is performed. If a ZeroDivisionError occurs (i.e., when the divisor is 0), the code in the corresponding except block is executed, which prints an error message. If no exception occurs, the code in the else block is executed, which prints the result of the division. The finally block contains code that will be executed regardless of whether an exception occurred or not. This block is typically used for cleanup or finalization tasks.\n",
    "\n",
    "When calling divide(10, 2), the division is successful, so the result is printed along with the \"Execution completed.\" message. When calling divide(10, 0), a ZeroDivisionError occurs, so the error message is printed, followed by the \"Execution completed.\" message.\n",
    "\n",
    "By using try and except statements, you can gracefully handle exceptions and prevent your program from crashing due to unforeseen errors."
   ]
  },
  {
   "cell_type": "markdown",
   "id": "c35e172b-e306-4ccb-ab9c-bef976de2029",
   "metadata": {
    "tags": []
   },
   "source": [
    "# Q5.what are custom Exceptions in python ? why do we need custom exceptions? explain with an example."
   ]
  },
  {
   "cell_type": "markdown",
   "id": "77a82600-96bc-4736-b465-afbb663b8638",
   "metadata": {},
   "source": [
    "Specific Error Conditions: Custom exceptions allow you to define exception types that are specific to your program's logic or domain. This helps in distinguishing different types of errors and handling them accordingly. By defining custom exceptions, you can provide more detailed information about the error condition and make your code more expressive and self-explanatory.\n",
    "\n",
    "Code Organization: Custom exceptions can help in organizing and categorizing different types of errors in your codebase. By creating a hierarchy of custom exceptions, you can group related errors under a common base exception and provide specialized exceptions for specific error scenarios. This makes it easier to handle different types of exceptions and improves the overall readability and maintainability of your code.\n",
    "\n"
   ]
  },
  {
   "cell_type": "code",
   "execution_count": 12,
   "id": "cd96d4f9-7a76-4472-8ab6-ffb20f5a7fdf",
   "metadata": {},
   "outputs": [
    {
     "name": "stdout",
     "output_type": "stream",
     "text": [
      "Insufficient funds to withdraw.\n"
     ]
    }
   ],
   "source": [
    "class InsufficientFundsError(Exception):\n",
    "    pass\n",
    "\n",
    "def withdraw(amount, balance):\n",
    "    if amount > balance:\n",
    "        raise InsufficientFundsError(\"Insufficient funds to withdraw.\")\n",
    "    else:\n",
    "        print(\"Withdrawal successful.\")\n",
    "\n",
    "try:\n",
    "    withdraw(1000, 500)\n",
    "except InsufficientFundsError as e:\n",
    "    print(str(e))\n"
   ]
  },
  {
   "cell_type": "markdown",
   "id": "33c5e697-0ab0-4185-8467-d511cdef05f0",
   "metadata": {
    "tags": []
   },
   "source": [
    "# Q6.create a custom exception class. use this class to handle an exception."
   ]
  },
  {
   "cell_type": "code",
   "execution_count": 13,
   "id": "25f026bc-52b4-4254-b5bd-696a6d974f12",
   "metadata": {},
   "outputs": [
    {
     "name": "stdout",
     "output_type": "stream",
     "text": [
      "Custom Exception: Division by zero is not allowed.\n"
     ]
    }
   ],
   "source": [
    "class CustomException(Exception):\n",
    "    def __init__(self, message):\n",
    "        self.message = message\n",
    "\n",
    "def divide_numbers(a, b):\n",
    "    try:\n",
    "        if b == 0:\n",
    "            raise CustomException(\"Division by zero is not allowed.\")\n",
    "        else:\n",
    "            result = a / b\n",
    "            print(\"The result of division is:\", result)\n",
    "    except CustomException as e:\n",
    "        print(\"Custom Exception:\", e.message)\n",
    "\n",
    "# Example: Division by zero\n",
    "divide_numbers(10, 0)\n"
   ]
  },
  {
   "cell_type": "code",
   "execution_count": null,
   "id": "e41828e0-6ba9-4ea0-bdb8-f5c14369f1b4",
   "metadata": {},
   "outputs": [],
   "source": []
  }
 ],
 "metadata": {
  "kernelspec": {
   "display_name": "Python 3 (ipykernel)",
   "language": "python",
   "name": "python3"
  },
  "language_info": {
   "codemirror_mode": {
    "name": "ipython",
    "version": 3
   },
   "file_extension": ".py",
   "mimetype": "text/x-python",
   "name": "python",
   "nbconvert_exporter": "python",
   "pygments_lexer": "ipython3",
   "version": "3.10.8"
  }
 },
 "nbformat": 4,
 "nbformat_minor": 5
}
